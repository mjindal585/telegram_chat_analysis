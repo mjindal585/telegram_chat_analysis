{
 "cells": [
  {
   "cell_type": "markdown",
   "metadata": {},
   "source": [
    "# Involves cleaning of text messages, date column and from column"
   ]
  },
  {
   "cell_type": "code",
   "execution_count": 1,
   "metadata": {},
   "outputs": [
    {
     "data": {
      "text/html": [
       "<div>\n",
       "<style scoped>\n",
       "    .dataframe tbody tr th:only-of-type {\n",
       "        vertical-align: middle;\n",
       "    }\n",
       "\n",
       "    .dataframe tbody tr th {\n",
       "        vertical-align: top;\n",
       "    }\n",
       "\n",
       "    .dataframe thead th {\n",
       "        text-align: right;\n",
       "    }\n",
       "</style>\n",
       "<table border=\"1\" class=\"dataframe\">\n",
       "  <thead>\n",
       "    <tr style=\"text-align: right;\">\n",
       "      <th></th>\n",
       "      <th>id</th>\n",
       "      <th>date</th>\n",
       "      <th>text</th>\n",
       "      <th>from</th>\n",
       "      <th>from_id</th>\n",
       "      <th>reply_to_message_id</th>\n",
       "      <th>contact_information</th>\n",
       "      <th>contact_vcard</th>\n",
       "    </tr>\n",
       "  </thead>\n",
       "  <tbody>\n",
       "    <tr>\n",
       "      <th>0</th>\n",
       "      <td>9799</td>\n",
       "      <td>2020-06-10T22:58:32</td>\n",
       "      <td>Make a random model and calc the rmse score th...</td>\n",
       "      <td>Dragon Master</td>\n",
       "      <td>1217107241</td>\n",
       "      <td>9796.0</td>\n",
       "      <td>NaN</td>\n",
       "      <td>NaN</td>\n",
       "    </tr>\n",
       "    <tr>\n",
       "      <th>1</th>\n",
       "      <td>9804</td>\n",
       "      <td>2020-06-10T23:05:42</td>\n",
       "      <td>Hi all</td>\n",
       "      <td>Rohit Jain</td>\n",
       "      <td>1250027868</td>\n",
       "      <td>NaN</td>\n",
       "      <td>NaN</td>\n",
       "      <td>NaN</td>\n",
       "    </tr>\n",
       "    <tr>\n",
       "      <th>2</th>\n",
       "      <td>9805</td>\n",
       "      <td>2020-06-10T23:07:36</td>\n",
       "      <td>Ha my name is rohit jain and I joined your gro...</td>\n",
       "      <td>Rohit Jain</td>\n",
       "      <td>1250027868</td>\n",
       "      <td>NaN</td>\n",
       "      <td>NaN</td>\n",
       "      <td>NaN</td>\n",
       "    </tr>\n",
       "    <tr>\n",
       "      <th>3</th>\n",
       "      <td>9809</td>\n",
       "      <td>2020-06-10T23:18:52</td>\n",
       "      <td>I'm working on a dataset where text and it's s...</td>\n",
       "      <td>Mukul Sharma</td>\n",
       "      <td>1117859453</td>\n",
       "      <td>NaN</td>\n",
       "      <td>NaN</td>\n",
       "      <td>NaN</td>\n",
       "    </tr>\n",
       "    <tr>\n",
       "      <th>4</th>\n",
       "      <td>9811</td>\n",
       "      <td>2020-06-10T23:19:46</td>\n",
       "      <td>Can anyone in the group help me out...  I'm ha...</td>\n",
       "      <td>Mukul Sharma</td>\n",
       "      <td>1117859453</td>\n",
       "      <td>NaN</td>\n",
       "      <td>NaN</td>\n",
       "      <td>NaN</td>\n",
       "    </tr>\n",
       "  </tbody>\n",
       "</table>\n",
       "</div>"
      ],
      "text/plain": [
       "     id                 date  \\\n",
       "0  9799  2020-06-10T22:58:32   \n",
       "1  9804  2020-06-10T23:05:42   \n",
       "2  9805  2020-06-10T23:07:36   \n",
       "3  9809  2020-06-10T23:18:52   \n",
       "4  9811  2020-06-10T23:19:46   \n",
       "\n",
       "                                                text           from  \\\n",
       "0  Make a random model and calc the rmse score th...  Dragon Master   \n",
       "1                                             Hi all     Rohit Jain   \n",
       "2  Ha my name is rohit jain and I joined your gro...     Rohit Jain   \n",
       "3  I'm working on a dataset where text and it's s...   Mukul Sharma   \n",
       "4  Can anyone in the group help me out...  I'm ha...   Mukul Sharma   \n",
       "\n",
       "      from_id  reply_to_message_id contact_information contact_vcard  \n",
       "0  1217107241               9796.0                 NaN           NaN  \n",
       "1  1250027868                  NaN                 NaN           NaN  \n",
       "2  1250027868                  NaN                 NaN           NaN  \n",
       "3  1117859453                  NaN                 NaN           NaN  \n",
       "4  1117859453                  NaN                 NaN           NaN  "
      ]
     },
     "execution_count": 1,
     "metadata": {},
     "output_type": "execute_result"
    }
   ],
   "source": [
    "import pandas as pd\n",
    "import re\n",
    "import matplotlib as plt\n",
    "\n",
    "df=pd.read_csv('new2.csv')\n",
    "df.head()"
   ]
  },
  {
   "cell_type": "markdown",
   "metadata": {},
   "source": [
    "Converting text column to string datatype and show some rows containing text in diffrent types and will be cleaned later "
   ]
  },
  {
   "cell_type": "code",
   "execution_count": 2,
   "metadata": {},
   "outputs": [],
   "source": [
    "df['text'] = df['text'].astype(str)"
   ]
  },
  {
   "cell_type": "code",
   "execution_count": 3,
   "metadata": {},
   "outputs": [
    {
     "data": {
      "text/html": [
       "<div>\n",
       "<style scoped>\n",
       "    .dataframe tbody tr th:only-of-type {\n",
       "        vertical-align: middle;\n",
       "    }\n",
       "\n",
       "    .dataframe tbody tr th {\n",
       "        vertical-align: top;\n",
       "    }\n",
       "\n",
       "    .dataframe thead th {\n",
       "        text-align: right;\n",
       "    }\n",
       "</style>\n",
       "<table border=\"1\" class=\"dataframe\">\n",
       "  <thead>\n",
       "    <tr style=\"text-align: right;\">\n",
       "      <th></th>\n",
       "      <th>text</th>\n",
       "    </tr>\n",
       "  </thead>\n",
       "  <tbody>\n",
       "    <tr>\n",
       "      <th>56</th>\n",
       "      <td>But I am more comfortable with sql</td>\n",
       "    </tr>\n",
       "  </tbody>\n",
       "</table>\n",
       "</div>"
      ],
      "text/plain": [
       "                                  text\n",
       "56  But I am more comfortable with sql"
      ]
     },
     "execution_count": 3,
     "metadata": {},
     "output_type": "execute_result"
    }
   ],
   "source": [
    "df[df['id']==9886][['text']]"
   ]
  },
  {
   "cell_type": "code",
   "execution_count": 4,
   "metadata": {},
   "outputs": [
    {
     "data": {
      "text/html": [
       "<div>\n",
       "<style scoped>\n",
       "    .dataframe tbody tr th:only-of-type {\n",
       "        vertical-align: middle;\n",
       "    }\n",
       "\n",
       "    .dataframe tbody tr th {\n",
       "        vertical-align: top;\n",
       "    }\n",
       "\n",
       "    .dataframe thead th {\n",
       "        text-align: right;\n",
       "    }\n",
       "</style>\n",
       "<table border=\"1\" class=\"dataframe\">\n",
       "  <thead>\n",
       "    <tr style=\"text-align: right;\">\n",
       "      <th></th>\n",
       "      <th>text</th>\n",
       "    </tr>\n",
       "  </thead>\n",
       "  <tbody>\n",
       "    <tr>\n",
       "      <th>27</th>\n",
       "      <td>[{'type': 'mention_name', 'text': 'Mohak', 'us...</td>\n",
       "    </tr>\n",
       "  </tbody>\n",
       "</table>\n",
       "</div>"
      ],
      "text/plain": [
       "                                                 text\n",
       "27  [{'type': 'mention_name', 'text': 'Mohak', 'us..."
      ]
     },
     "execution_count": 4,
     "metadata": {},
     "output_type": "execute_result"
    }
   ],
   "source": [
    "df[df['id']==9852][['text']]"
   ]
  },
  {
   "cell_type": "code",
   "execution_count": 5,
   "metadata": {},
   "outputs": [
    {
     "data": {
      "text/html": [
       "<div>\n",
       "<style scoped>\n",
       "    .dataframe tbody tr th:only-of-type {\n",
       "        vertical-align: middle;\n",
       "    }\n",
       "\n",
       "    .dataframe tbody tr th {\n",
       "        vertical-align: top;\n",
       "    }\n",
       "\n",
       "    .dataframe thead th {\n",
       "        text-align: right;\n",
       "    }\n",
       "</style>\n",
       "<table border=\"1\" class=\"dataframe\">\n",
       "  <thead>\n",
       "    <tr style=\"text-align: right;\">\n",
       "      <th></th>\n",
       "      <th>text</th>\n",
       "    </tr>\n",
       "  </thead>\n",
       "  <tbody>\n",
       "    <tr>\n",
       "      <th>61</th>\n",
       "      <td>['Any please help.  ', {'type': 'bold', 'text'...</td>\n",
       "    </tr>\n",
       "  </tbody>\n",
       "</table>\n",
       "</div>"
      ],
      "text/plain": [
       "                                                 text\n",
       "61  ['Any please help.  ', {'type': 'bold', 'text'..."
      ]
     },
     "execution_count": 5,
     "metadata": {},
     "output_type": "execute_result"
    }
   ],
   "source": [
    "df[df['id']==9895][['text']]"
   ]
  },
  {
   "cell_type": "markdown",
   "metadata": {},
   "source": [
    "Function to clean the contents of text messages and store them to message column"
   ]
  },
  {
   "cell_type": "code",
   "execution_count": 6,
   "metadata": {},
   "outputs": [],
   "source": [
    "def message_clean(df):\n",
    "    message = ''\n",
    "    if df.loc['text'][0] == '[':\n",
    "        text = df.loc['text'].strip().strip('[').strip(']')        \n",
    "        escapes = ''.join([chr(char) for char in range(1, 32)])\n",
    "        translator = str.maketrans('', '', escapes)\n",
    "        t = text.translate(translator)\n",
    "        results = re.findall(r\"'(.*?)'|\\\"(.*?)\\\"|({.*?})\", t) #check for text only and dictionary using regex\n",
    "        results = [item for elem in results for item in elem if len(item)] # Clean empty records\n",
    "        for e in results:\n",
    "            if(e[0]=='{'):\n",
    "                d = eval(e)\n",
    "                message = message + \" \" + d['text'].strip()\n",
    "            else:\n",
    "                message = message + \" \" + e.strip()\n",
    "    else:\n",
    "        message = df.loc['text']\n",
    "    return message"
   ]
  },
  {
   "cell_type": "code",
   "execution_count": 7,
   "metadata": {},
   "outputs": [
    {
     "data": {
      "text/html": [
       "<div>\n",
       "<style scoped>\n",
       "    .dataframe tbody tr th:only-of-type {\n",
       "        vertical-align: middle;\n",
       "    }\n",
       "\n",
       "    .dataframe tbody tr th {\n",
       "        vertical-align: top;\n",
       "    }\n",
       "\n",
       "    .dataframe thead th {\n",
       "        text-align: right;\n",
       "    }\n",
       "</style>\n",
       "<table border=\"1\" class=\"dataframe\">\n",
       "  <thead>\n",
       "    <tr style=\"text-align: right;\">\n",
       "      <th></th>\n",
       "      <th>id</th>\n",
       "      <th>date</th>\n",
       "      <th>text</th>\n",
       "      <th>from</th>\n",
       "      <th>from_id</th>\n",
       "      <th>reply_to_message_id</th>\n",
       "      <th>contact_information</th>\n",
       "      <th>contact_vcard</th>\n",
       "      <th>message</th>\n",
       "    </tr>\n",
       "  </thead>\n",
       "  <tbody>\n",
       "    <tr>\n",
       "      <th>0</th>\n",
       "      <td>9799</td>\n",
       "      <td>2020-06-10T22:58:32</td>\n",
       "      <td>Make a random model and calc the rmse score th...</td>\n",
       "      <td>Dragon Master</td>\n",
       "      <td>1217107241</td>\n",
       "      <td>9796.0</td>\n",
       "      <td>NaN</td>\n",
       "      <td>NaN</td>\n",
       "      <td>Make a random model and calc the rmse score th...</td>\n",
       "    </tr>\n",
       "    <tr>\n",
       "      <th>1</th>\n",
       "      <td>9804</td>\n",
       "      <td>2020-06-10T23:05:42</td>\n",
       "      <td>Hi all</td>\n",
       "      <td>Rohit Jain</td>\n",
       "      <td>1250027868</td>\n",
       "      <td>NaN</td>\n",
       "      <td>NaN</td>\n",
       "      <td>NaN</td>\n",
       "      <td>Hi all</td>\n",
       "    </tr>\n",
       "    <tr>\n",
       "      <th>2</th>\n",
       "      <td>9805</td>\n",
       "      <td>2020-06-10T23:07:36</td>\n",
       "      <td>Ha my name is rohit jain and I joined your gro...</td>\n",
       "      <td>Rohit Jain</td>\n",
       "      <td>1250027868</td>\n",
       "      <td>NaN</td>\n",
       "      <td>NaN</td>\n",
       "      <td>NaN</td>\n",
       "      <td>Ha my name is rohit jain and I joined your gro...</td>\n",
       "    </tr>\n",
       "    <tr>\n",
       "      <th>3</th>\n",
       "      <td>9809</td>\n",
       "      <td>2020-06-10T23:18:52</td>\n",
       "      <td>I'm working on a dataset where text and it's s...</td>\n",
       "      <td>Mukul Sharma</td>\n",
       "      <td>1117859453</td>\n",
       "      <td>NaN</td>\n",
       "      <td>NaN</td>\n",
       "      <td>NaN</td>\n",
       "      <td>I'm working on a dataset where text and it's s...</td>\n",
       "    </tr>\n",
       "    <tr>\n",
       "      <th>4</th>\n",
       "      <td>9811</td>\n",
       "      <td>2020-06-10T23:19:46</td>\n",
       "      <td>Can anyone in the group help me out...  I'm ha...</td>\n",
       "      <td>Mukul Sharma</td>\n",
       "      <td>1117859453</td>\n",
       "      <td>NaN</td>\n",
       "      <td>NaN</td>\n",
       "      <td>NaN</td>\n",
       "      <td>Can anyone in the group help me out...  I'm ha...</td>\n",
       "    </tr>\n",
       "  </tbody>\n",
       "</table>\n",
       "</div>"
      ],
      "text/plain": [
       "     id                 date  \\\n",
       "0  9799  2020-06-10T22:58:32   \n",
       "1  9804  2020-06-10T23:05:42   \n",
       "2  9805  2020-06-10T23:07:36   \n",
       "3  9809  2020-06-10T23:18:52   \n",
       "4  9811  2020-06-10T23:19:46   \n",
       "\n",
       "                                                text           from  \\\n",
       "0  Make a random model and calc the rmse score th...  Dragon Master   \n",
       "1                                             Hi all     Rohit Jain   \n",
       "2  Ha my name is rohit jain and I joined your gro...     Rohit Jain   \n",
       "3  I'm working on a dataset where text and it's s...   Mukul Sharma   \n",
       "4  Can anyone in the group help me out...  I'm ha...   Mukul Sharma   \n",
       "\n",
       "      from_id  reply_to_message_id contact_information contact_vcard  \\\n",
       "0  1217107241               9796.0                 NaN           NaN   \n",
       "1  1250027868                  NaN                 NaN           NaN   \n",
       "2  1250027868                  NaN                 NaN           NaN   \n",
       "3  1117859453                  NaN                 NaN           NaN   \n",
       "4  1117859453                  NaN                 NaN           NaN   \n",
       "\n",
       "                                             message  \n",
       "0  Make a random model and calc the rmse score th...  \n",
       "1                                             Hi all  \n",
       "2  Ha my name is rohit jain and I joined your gro...  \n",
       "3  I'm working on a dataset where text and it's s...  \n",
       "4  Can anyone in the group help me out...  I'm ha...  "
      ]
     },
     "execution_count": 7,
     "metadata": {},
     "output_type": "execute_result"
    }
   ],
   "source": [
    "df['message'] = df.apply(message_clean,axis=1)\n",
    "df.head()"
   ]
  },
  {
   "cell_type": "markdown",
   "metadata": {},
   "source": [
    "Drop Nan values in text column"
   ]
  },
  {
   "cell_type": "code",
   "execution_count": 8,
   "metadata": {},
   "outputs": [],
   "source": [
    "df.dropna(subset=['text'],inplace=True)"
   ]
  },
  {
   "cell_type": "markdown",
   "metadata": {},
   "source": [
    "Row where contact was shared and dropping them"
   ]
  },
  {
   "cell_type": "code",
   "execution_count": 9,
   "metadata": {},
   "outputs": [
    {
     "data": {
      "text/html": [
       "<div>\n",
       "<style scoped>\n",
       "    .dataframe tbody tr th:only-of-type {\n",
       "        vertical-align: middle;\n",
       "    }\n",
       "\n",
       "    .dataframe tbody tr th {\n",
       "        vertical-align: top;\n",
       "    }\n",
       "\n",
       "    .dataframe thead th {\n",
       "        text-align: right;\n",
       "    }\n",
       "</style>\n",
       "<table border=\"1\" class=\"dataframe\">\n",
       "  <thead>\n",
       "    <tr style=\"text-align: right;\">\n",
       "      <th></th>\n",
       "      <th>id</th>\n",
       "      <th>date</th>\n",
       "      <th>text</th>\n",
       "      <th>from</th>\n",
       "      <th>from_id</th>\n",
       "      <th>reply_to_message_id</th>\n",
       "      <th>contact_information</th>\n",
       "      <th>contact_vcard</th>\n",
       "      <th>message</th>\n",
       "    </tr>\n",
       "  </thead>\n",
       "  <tbody>\n",
       "    <tr>\n",
       "      <th>9752</th>\n",
       "      <td>25317</td>\n",
       "      <td>2020-07-18T13:49:26</td>\n",
       "      <td>nan</td>\n",
       "      <td>sartaj</td>\n",
       "      <td>677791092</td>\n",
       "      <td>NaN</td>\n",
       "      <td>{'first_name': 'Anupam', 'last_name': '', 'pho...</td>\n",
       "      <td>contacts/contact_1.vcard</td>\n",
       "      <td>nan</td>\n",
       "    </tr>\n",
       "  </tbody>\n",
       "</table>\n",
       "</div>"
      ],
      "text/plain": [
       "         id                 date text    from    from_id  reply_to_message_id  \\\n",
       "9752  25317  2020-07-18T13:49:26  nan  sartaj  677791092                  NaN   \n",
       "\n",
       "                                    contact_information  \\\n",
       "9752  {'first_name': 'Anupam', 'last_name': '', 'pho...   \n",
       "\n",
       "                 contact_vcard message  \n",
       "9752  contacts/contact_1.vcard     nan  "
      ]
     },
     "execution_count": 9,
     "metadata": {},
     "output_type": "execute_result"
    }
   ],
   "source": [
    "df[df['id']==25317]"
   ]
  },
  {
   "cell_type": "code",
   "execution_count": 10,
   "metadata": {},
   "outputs": [],
   "source": [
    "df.drop(df[df.text == 'nan'].index , inplace=True)\n",
    "df.drop(df[df.text == 'NaN'].index , inplace=True)"
   ]
  },
  {
   "cell_type": "code",
   "execution_count": 11,
   "metadata": {},
   "outputs": [
    {
     "data": {
      "text/plain": [
       "Index(['id', 'date', 'text', 'from', 'from_id', 'reply_to_message_id',\n",
       "       'contact_information', 'contact_vcard', 'message'],\n",
       "      dtype='object')"
      ]
     },
     "execution_count": 11,
     "metadata": {},
     "output_type": "execute_result"
    }
   ],
   "source": [
    "df.columns"
   ]
  },
  {
   "cell_type": "code",
   "execution_count": 12,
   "metadata": {},
   "outputs": [],
   "source": [
    "df = df[['id', 'date', 'text', 'from', 'from_id', 'reply_to_message_id','message']]"
   ]
  },
  {
   "cell_type": "markdown",
   "metadata": {},
   "source": [
    "Cleaning date column and converting it into datetime datatype"
   ]
  },
  {
   "cell_type": "code",
   "execution_count": 13,
   "metadata": {},
   "outputs": [],
   "source": [
    "df['date'] = df.apply(lambda x: ' '.join(x['date'].split('T')),axis=1).astype('datetime64[ns]')"
   ]
  },
  {
   "cell_type": "markdown",
   "metadata": {},
   "source": [
    "Concat columns from and from_id"
   ]
  },
  {
   "cell_type": "code",
   "execution_count": 14,
   "metadata": {},
   "outputs": [],
   "source": [
    "df['from'] = df['from'] + ' ' + '( ' + df['from_id'].astype(str) + ' )'"
   ]
  },
  {
   "cell_type": "code",
   "execution_count": 15,
   "metadata": {},
   "outputs": [
    {
     "data": {
      "text/plain": [
       "id                              int64\n",
       "date                   datetime64[ns]\n",
       "text                           object\n",
       "from                           object\n",
       "from_id                         int64\n",
       "reply_to_message_id           float64\n",
       "message                        object\n",
       "dtype: object"
      ]
     },
     "execution_count": 15,
     "metadata": {},
     "output_type": "execute_result"
    }
   ],
   "source": [
    "df.dtypes"
   ]
  },
  {
   "cell_type": "code",
   "execution_count": 16,
   "metadata": {},
   "outputs": [
    {
     "data": {
      "text/html": [
       "<div>\n",
       "<style scoped>\n",
       "    .dataframe tbody tr th:only-of-type {\n",
       "        vertical-align: middle;\n",
       "    }\n",
       "\n",
       "    .dataframe tbody tr th {\n",
       "        vertical-align: top;\n",
       "    }\n",
       "\n",
       "    .dataframe thead th {\n",
       "        text-align: right;\n",
       "    }\n",
       "</style>\n",
       "<table border=\"1\" class=\"dataframe\">\n",
       "  <thead>\n",
       "    <tr style=\"text-align: right;\">\n",
       "      <th></th>\n",
       "      <th>id</th>\n",
       "      <th>date</th>\n",
       "      <th>text</th>\n",
       "      <th>from</th>\n",
       "      <th>from_id</th>\n",
       "      <th>reply_to_message_id</th>\n",
       "      <th>message</th>\n",
       "    </tr>\n",
       "  </thead>\n",
       "  <tbody>\n",
       "    <tr>\n",
       "      <th>0</th>\n",
       "      <td>9799</td>\n",
       "      <td>2020-06-10 22:58:32</td>\n",
       "      <td>Make a random model and calc the rmse score th...</td>\n",
       "      <td>Dragon Master ( 1217107241 )</td>\n",
       "      <td>1217107241</td>\n",
       "      <td>9796.0</td>\n",
       "      <td>Make a random model and calc the rmse score th...</td>\n",
       "    </tr>\n",
       "    <tr>\n",
       "      <th>1</th>\n",
       "      <td>9804</td>\n",
       "      <td>2020-06-10 23:05:42</td>\n",
       "      <td>Hi all</td>\n",
       "      <td>Rohit Jain ( 1250027868 )</td>\n",
       "      <td>1250027868</td>\n",
       "      <td>NaN</td>\n",
       "      <td>Hi all</td>\n",
       "    </tr>\n",
       "    <tr>\n",
       "      <th>2</th>\n",
       "      <td>9805</td>\n",
       "      <td>2020-06-10 23:07:36</td>\n",
       "      <td>Ha my name is rohit jain and I joined your gro...</td>\n",
       "      <td>Rohit Jain ( 1250027868 )</td>\n",
       "      <td>1250027868</td>\n",
       "      <td>NaN</td>\n",
       "      <td>Ha my name is rohit jain and I joined your gro...</td>\n",
       "    </tr>\n",
       "    <tr>\n",
       "      <th>3</th>\n",
       "      <td>9809</td>\n",
       "      <td>2020-06-10 23:18:52</td>\n",
       "      <td>I'm working on a dataset where text and it's s...</td>\n",
       "      <td>Mukul Sharma ( 1117859453 )</td>\n",
       "      <td>1117859453</td>\n",
       "      <td>NaN</td>\n",
       "      <td>I'm working on a dataset where text and it's s...</td>\n",
       "    </tr>\n",
       "    <tr>\n",
       "      <th>4</th>\n",
       "      <td>9811</td>\n",
       "      <td>2020-06-10 23:19:46</td>\n",
       "      <td>Can anyone in the group help me out...  I'm ha...</td>\n",
       "      <td>Mukul Sharma ( 1117859453 )</td>\n",
       "      <td>1117859453</td>\n",
       "      <td>NaN</td>\n",
       "      <td>Can anyone in the group help me out...  I'm ha...</td>\n",
       "    </tr>\n",
       "  </tbody>\n",
       "</table>\n",
       "</div>"
      ],
      "text/plain": [
       "     id                date  \\\n",
       "0  9799 2020-06-10 22:58:32   \n",
       "1  9804 2020-06-10 23:05:42   \n",
       "2  9805 2020-06-10 23:07:36   \n",
       "3  9809 2020-06-10 23:18:52   \n",
       "4  9811 2020-06-10 23:19:46   \n",
       "\n",
       "                                                text  \\\n",
       "0  Make a random model and calc the rmse score th...   \n",
       "1                                             Hi all   \n",
       "2  Ha my name is rohit jain and I joined your gro...   \n",
       "3  I'm working on a dataset where text and it's s...   \n",
       "4  Can anyone in the group help me out...  I'm ha...   \n",
       "\n",
       "                           from     from_id  reply_to_message_id  \\\n",
       "0  Dragon Master ( 1217107241 )  1217107241               9796.0   \n",
       "1     Rohit Jain ( 1250027868 )  1250027868                  NaN   \n",
       "2     Rohit Jain ( 1250027868 )  1250027868                  NaN   \n",
       "3   Mukul Sharma ( 1117859453 )  1117859453                  NaN   \n",
       "4   Mukul Sharma ( 1117859453 )  1117859453                  NaN   \n",
       "\n",
       "                                             message  \n",
       "0  Make a random model and calc the rmse score th...  \n",
       "1                                             Hi all  \n",
       "2  Ha my name is rohit jain and I joined your gro...  \n",
       "3  I'm working on a dataset where text and it's s...  \n",
       "4  Can anyone in the group help me out...  I'm ha...  "
      ]
     },
     "execution_count": 16,
     "metadata": {},
     "output_type": "execute_result"
    }
   ],
   "source": [
    "df.head()"
   ]
  },
  {
   "cell_type": "markdown",
   "metadata": {},
   "source": [
    "Keeping required columns and making a final cleaned .csv file"
   ]
  },
  {
   "cell_type": "code",
   "execution_count": 17,
   "metadata": {},
   "outputs": [],
   "source": [
    "final = df[['id','date','from','message','reply_to_message_id']]"
   ]
  },
  {
   "cell_type": "code",
   "execution_count": 18,
   "metadata": {},
   "outputs": [
    {
     "data": {
      "text/html": [
       "<div>\n",
       "<style scoped>\n",
       "    .dataframe tbody tr th:only-of-type {\n",
       "        vertical-align: middle;\n",
       "    }\n",
       "\n",
       "    .dataframe tbody tr th {\n",
       "        vertical-align: top;\n",
       "    }\n",
       "\n",
       "    .dataframe thead th {\n",
       "        text-align: right;\n",
       "    }\n",
       "</style>\n",
       "<table border=\"1\" class=\"dataframe\">\n",
       "  <thead>\n",
       "    <tr style=\"text-align: right;\">\n",
       "      <th></th>\n",
       "      <th>id</th>\n",
       "      <th>date</th>\n",
       "      <th>from</th>\n",
       "      <th>message</th>\n",
       "      <th>reply_to_message_id</th>\n",
       "    </tr>\n",
       "  </thead>\n",
       "  <tbody>\n",
       "    <tr>\n",
       "      <th>0</th>\n",
       "      <td>9799</td>\n",
       "      <td>2020-06-10 22:58:32</td>\n",
       "      <td>Dragon Master ( 1217107241 )</td>\n",
       "      <td>Make a random model and calc the rmse score th...</td>\n",
       "      <td>9796.0</td>\n",
       "    </tr>\n",
       "    <tr>\n",
       "      <th>1</th>\n",
       "      <td>9804</td>\n",
       "      <td>2020-06-10 23:05:42</td>\n",
       "      <td>Rohit Jain ( 1250027868 )</td>\n",
       "      <td>Hi all</td>\n",
       "      <td>NaN</td>\n",
       "    </tr>\n",
       "    <tr>\n",
       "      <th>2</th>\n",
       "      <td>9805</td>\n",
       "      <td>2020-06-10 23:07:36</td>\n",
       "      <td>Rohit Jain ( 1250027868 )</td>\n",
       "      <td>Ha my name is rohit jain and I joined your gro...</td>\n",
       "      <td>NaN</td>\n",
       "    </tr>\n",
       "    <tr>\n",
       "      <th>3</th>\n",
       "      <td>9809</td>\n",
       "      <td>2020-06-10 23:18:52</td>\n",
       "      <td>Mukul Sharma ( 1117859453 )</td>\n",
       "      <td>I'm working on a dataset where text and it's s...</td>\n",
       "      <td>NaN</td>\n",
       "    </tr>\n",
       "    <tr>\n",
       "      <th>4</th>\n",
       "      <td>9811</td>\n",
       "      <td>2020-06-10 23:19:46</td>\n",
       "      <td>Mukul Sharma ( 1117859453 )</td>\n",
       "      <td>Can anyone in the group help me out...  I'm ha...</td>\n",
       "      <td>NaN</td>\n",
       "    </tr>\n",
       "  </tbody>\n",
       "</table>\n",
       "</div>"
      ],
      "text/plain": [
       "     id                date                          from  \\\n",
       "0  9799 2020-06-10 22:58:32  Dragon Master ( 1217107241 )   \n",
       "1  9804 2020-06-10 23:05:42     Rohit Jain ( 1250027868 )   \n",
       "2  9805 2020-06-10 23:07:36     Rohit Jain ( 1250027868 )   \n",
       "3  9809 2020-06-10 23:18:52   Mukul Sharma ( 1117859453 )   \n",
       "4  9811 2020-06-10 23:19:46   Mukul Sharma ( 1117859453 )   \n",
       "\n",
       "                                             message  reply_to_message_id  \n",
       "0  Make a random model and calc the rmse score th...               9796.0  \n",
       "1                                             Hi all                  NaN  \n",
       "2  Ha my name is rohit jain and I joined your gro...                  NaN  \n",
       "3  I'm working on a dataset where text and it's s...                  NaN  \n",
       "4  Can anyone in the group help me out...  I'm ha...                  NaN  "
      ]
     },
     "execution_count": 18,
     "metadata": {},
     "output_type": "execute_result"
    }
   ],
   "source": [
    "final.head()"
   ]
  },
  {
   "cell_type": "code",
   "execution_count": 19,
   "metadata": {},
   "outputs": [],
   "source": [
    "final.to_csv('finalchat.csv',index=False)"
   ]
  }
 ],
 "metadata": {
  "kernelspec": {
   "display_name": "Python 3",
   "language": "python",
   "name": "python3"
  },
  "language_info": {
   "codemirror_mode": {
    "name": "ipython",
    "version": 3
   },
   "file_extension": ".py",
   "mimetype": "text/x-python",
   "name": "python",
   "nbconvert_exporter": "python",
   "pygments_lexer": "ipython3",
   "version": "3.6.9"
  }
 },
 "nbformat": 4,
 "nbformat_minor": 2
}
