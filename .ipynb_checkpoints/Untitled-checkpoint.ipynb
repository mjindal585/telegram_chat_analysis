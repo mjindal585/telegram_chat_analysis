{
 "cells": [
  {
   "cell_type": "code",
   "execution_count": 1,
   "metadata": {},
   "outputs": [],
   "source": [
    "import pandas as pd"
   ]
  },
  {
   "cell_type": "code",
   "execution_count": 2,
   "metadata": {},
   "outputs": [],
   "source": [
    "df = pd.read_json('result.json')"
   ]
  },
  {
   "cell_type": "code",
   "execution_count": 3,
   "metadata": {},
   "outputs": [
    {
     "data": {
      "text/html": [
       "<div>\n",
       "<style scoped>\n",
       "    .dataframe tbody tr th:only-of-type {\n",
       "        vertical-align: middle;\n",
       "    }\n",
       "\n",
       "    .dataframe tbody tr th {\n",
       "        vertical-align: top;\n",
       "    }\n",
       "\n",
       "    .dataframe thead th {\n",
       "        text-align: right;\n",
       "    }\n",
       "</style>\n",
       "<table border=\"1\" class=\"dataframe\">\n",
       "  <thead>\n",
       "    <tr style=\"text-align: right;\">\n",
       "      <th></th>\n",
       "      <th>name</th>\n",
       "      <th>type</th>\n",
       "      <th>id</th>\n",
       "      <th>messages</th>\n",
       "    </tr>\n",
       "  </thead>\n",
       "  <tbody>\n",
       "    <tr>\n",
       "      <th>0</th>\n",
       "      <td>Discussion on ML and DL By Krish</td>\n",
       "      <td>public_supergroup</td>\n",
       "      <td>10054082092</td>\n",
       "      <td>{'id': 9798, 'type': 'service', 'date': '2020-...</td>\n",
       "    </tr>\n",
       "    <tr>\n",
       "      <th>1</th>\n",
       "      <td>Discussion on ML and DL By Krish</td>\n",
       "      <td>public_supergroup</td>\n",
       "      <td>10054082092</td>\n",
       "      <td>{'id': 9799, 'type': 'message', 'date': '2020-...</td>\n",
       "    </tr>\n",
       "    <tr>\n",
       "      <th>2</th>\n",
       "      <td>Discussion on ML and DL By Krish</td>\n",
       "      <td>public_supergroup</td>\n",
       "      <td>10054082092</td>\n",
       "      <td>{'id': 9800, 'type': 'service', 'date': '2020-...</td>\n",
       "    </tr>\n",
       "    <tr>\n",
       "      <th>3</th>\n",
       "      <td>Discussion on ML and DL By Krish</td>\n",
       "      <td>public_supergroup</td>\n",
       "      <td>10054082092</td>\n",
       "      <td>{'id': 9801, 'type': 'service', 'date': '2020-...</td>\n",
       "    </tr>\n",
       "    <tr>\n",
       "      <th>4</th>\n",
       "      <td>Discussion on ML and DL By Krish</td>\n",
       "      <td>public_supergroup</td>\n",
       "      <td>10054082092</td>\n",
       "      <td>{'id': 9802, 'type': 'service', 'date': '2020-...</td>\n",
       "    </tr>\n",
       "  </tbody>\n",
       "</table>\n",
       "</div>"
      ],
      "text/plain": [
       "                               name               type           id  \\\n",
       "0  Discussion on ML and DL By Krish  public_supergroup  10054082092   \n",
       "1  Discussion on ML and DL By Krish  public_supergroup  10054082092   \n",
       "2  Discussion on ML and DL By Krish  public_supergroup  10054082092   \n",
       "3  Discussion on ML and DL By Krish  public_supergroup  10054082092   \n",
       "4  Discussion on ML and DL By Krish  public_supergroup  10054082092   \n",
       "\n",
       "                                            messages  \n",
       "0  {'id': 9798, 'type': 'service', 'date': '2020-...  \n",
       "1  {'id': 9799, 'type': 'message', 'date': '2020-...  \n",
       "2  {'id': 9800, 'type': 'service', 'date': '2020-...  \n",
       "3  {'id': 9801, 'type': 'service', 'date': '2020-...  \n",
       "4  {'id': 9802, 'type': 'service', 'date': '2020-...  "
      ]
     },
     "execution_count": 3,
     "metadata": {},
     "output_type": "execute_result"
    }
   ],
   "source": [
    "df.head()"
   ]
  },
  {
   "cell_type": "code",
   "execution_count": 4,
   "metadata": {},
   "outputs": [
    {
     "data": {
      "text/plain": [
       "0    {'id': 9798, 'type': 'service', 'date': '2020-...\n",
       "1    {'id': 9799, 'type': 'message', 'date': '2020-...\n",
       "2    {'id': 9800, 'type': 'service', 'date': '2020-...\n",
       "3    {'id': 9801, 'type': 'service', 'date': '2020-...\n",
       "4    {'id': 9802, 'type': 'service', 'date': '2020-...\n",
       "Name: messages, dtype: object"
      ]
     },
     "execution_count": 4,
     "metadata": {},
     "output_type": "execute_result"
    }
   ],
   "source": [
    "df['messages'].head()"
   ]
  },
  {
   "cell_type": "code",
   "execution_count": 5,
   "metadata": {},
   "outputs": [
    {
     "data": {
      "text/plain": [
       "(13121, 4)"
      ]
     },
     "execution_count": 5,
     "metadata": {},
     "output_type": "execute_result"
    }
   ],
   "source": [
    "df.shape"
   ]
  },
  {
   "cell_type": "code",
   "execution_count": 6,
   "metadata": {},
   "outputs": [
    {
     "data": {
      "text/plain": [
       "(13121,)"
      ]
     },
     "execution_count": 6,
     "metadata": {},
     "output_type": "execute_result"
    }
   ],
   "source": [
    "df['messages'].shape"
   ]
  },
  {
   "cell_type": "code",
   "execution_count": 7,
   "metadata": {},
   "outputs": [],
   "source": [
    "df['messages'].to_json('new.json',index=True)"
   ]
  },
  {
   "cell_type": "code",
   "execution_count": 8,
   "metadata": {},
   "outputs": [],
   "source": [
    "df2 = pd.read_json('new.json')"
   ]
  },
  {
   "cell_type": "code",
   "execution_count": 9,
   "metadata": {},
   "outputs": [
    {
     "data": {
      "text/html": [
       "<div>\n",
       "<style scoped>\n",
       "    .dataframe tbody tr th:only-of-type {\n",
       "        vertical-align: middle;\n",
       "    }\n",
       "\n",
       "    .dataframe tbody tr th {\n",
       "        vertical-align: top;\n",
       "    }\n",
       "\n",
       "    .dataframe thead th {\n",
       "        text-align: right;\n",
       "    }\n",
       "</style>\n",
       "<table border=\"1\" class=\"dataframe\">\n",
       "  <thead>\n",
       "    <tr style=\"text-align: right;\">\n",
       "      <th></th>\n",
       "      <th>0</th>\n",
       "      <th>1</th>\n",
       "      <th>2</th>\n",
       "      <th>3</th>\n",
       "      <th>4</th>\n",
       "      <th>5</th>\n",
       "      <th>6</th>\n",
       "      <th>7</th>\n",
       "      <th>8</th>\n",
       "      <th>9</th>\n",
       "      <th>...</th>\n",
       "      <th>13111</th>\n",
       "      <th>13112</th>\n",
       "      <th>13113</th>\n",
       "      <th>13114</th>\n",
       "      <th>13115</th>\n",
       "      <th>13116</th>\n",
       "      <th>13117</th>\n",
       "      <th>13118</th>\n",
       "      <th>13119</th>\n",
       "      <th>13120</th>\n",
       "    </tr>\n",
       "  </thead>\n",
       "  <tbody>\n",
       "    <tr>\n",
       "      <th>id</th>\n",
       "      <td>9798</td>\n",
       "      <td>9799</td>\n",
       "      <td>9800</td>\n",
       "      <td>9801</td>\n",
       "      <td>9802</td>\n",
       "      <td>9803</td>\n",
       "      <td>9804</td>\n",
       "      <td>9805</td>\n",
       "      <td>9806</td>\n",
       "      <td>9807</td>\n",
       "      <td>...</td>\n",
       "      <td>24028</td>\n",
       "      <td>24029</td>\n",
       "      <td>24030</td>\n",
       "      <td>24031</td>\n",
       "      <td>24032</td>\n",
       "      <td>24033</td>\n",
       "      <td>24034</td>\n",
       "      <td>24035</td>\n",
       "      <td>24036</td>\n",
       "      <td>24037</td>\n",
       "    </tr>\n",
       "    <tr>\n",
       "      <th>type</th>\n",
       "      <td>service</td>\n",
       "      <td>message</td>\n",
       "      <td>service</td>\n",
       "      <td>service</td>\n",
       "      <td>service</td>\n",
       "      <td>service</td>\n",
       "      <td>message</td>\n",
       "      <td>message</td>\n",
       "      <td>service</td>\n",
       "      <td>service</td>\n",
       "      <td>...</td>\n",
       "      <td>message</td>\n",
       "      <td>service</td>\n",
       "      <td>message</td>\n",
       "      <td>message</td>\n",
       "      <td>message</td>\n",
       "      <td>message</td>\n",
       "      <td>service</td>\n",
       "      <td>message</td>\n",
       "      <td>service</td>\n",
       "      <td>message</td>\n",
       "    </tr>\n",
       "    <tr>\n",
       "      <th>date</th>\n",
       "      <td>2020-06-10T22:58:18</td>\n",
       "      <td>2020-06-10T22:58:32</td>\n",
       "      <td>2020-06-10T23:01:02</td>\n",
       "      <td>2020-06-10T23:01:24</td>\n",
       "      <td>2020-06-10T23:03:25</td>\n",
       "      <td>2020-06-10T23:05:18</td>\n",
       "      <td>2020-06-10T23:05:42</td>\n",
       "      <td>2020-06-10T23:07:36</td>\n",
       "      <td>2020-06-10T23:08:46</td>\n",
       "      <td>2020-06-10T23:09:22</td>\n",
       "      <td>...</td>\n",
       "      <td>2020-07-14T12:28:08</td>\n",
       "      <td>2020-07-14T12:28:23</td>\n",
       "      <td>2020-07-14T12:29:12</td>\n",
       "      <td>2020-07-14T12:31:55</td>\n",
       "      <td>2020-07-14T12:33:09</td>\n",
       "      <td>2020-07-14T12:43:55</td>\n",
       "      <td>2020-07-14T12:52:15</td>\n",
       "      <td>2020-07-14T12:54:27</td>\n",
       "      <td>2020-07-14T12:56:31</td>\n",
       "      <td>2020-07-14T12:57:00</td>\n",
       "    </tr>\n",
       "    <tr>\n",
       "      <th>actor</th>\n",
       "      <td>Mohit Jindal</td>\n",
       "      <td>NaN</td>\n",
       "      <td>Pradeep</td>\n",
       "      <td>Lijitha</td>\n",
       "      <td>Rohit Jain</td>\n",
       "      <td>S Raut</td>\n",
       "      <td>NaN</td>\n",
       "      <td>NaN</td>\n",
       "      <td>Soumya Ranjan</td>\n",
       "      <td>C B</td>\n",
       "      <td>...</td>\n",
       "      <td>NaN</td>\n",
       "      <td>Nandha kishore</td>\n",
       "      <td>NaN</td>\n",
       "      <td>NaN</td>\n",
       "      <td>NaN</td>\n",
       "      <td>NaN</td>\n",
       "      <td>Anand</td>\n",
       "      <td>NaN</td>\n",
       "      <td>Sj Bby</td>\n",
       "      <td>NaN</td>\n",
       "    </tr>\n",
       "    <tr>\n",
       "      <th>actor_id</th>\n",
       "      <td>611389237</td>\n",
       "      <td>NaN</td>\n",
       "      <td>973393289</td>\n",
       "      <td>1299771418</td>\n",
       "      <td>1250027868</td>\n",
       "      <td>595207405</td>\n",
       "      <td>NaN</td>\n",
       "      <td>NaN</td>\n",
       "      <td>924389871</td>\n",
       "      <td>359369119</td>\n",
       "      <td>...</td>\n",
       "      <td>NaN</td>\n",
       "      <td>1255111776</td>\n",
       "      <td>NaN</td>\n",
       "      <td>NaN</td>\n",
       "      <td>NaN</td>\n",
       "      <td>NaN</td>\n",
       "      <td>1068394140</td>\n",
       "      <td>NaN</td>\n",
       "      <td>921502515</td>\n",
       "      <td>NaN</td>\n",
       "    </tr>\n",
       "  </tbody>\n",
       "</table>\n",
       "<p>5 rows × 13121 columns</p>\n",
       "</div>"
      ],
      "text/plain": [
       "                        0                    1                    2      \\\n",
       "id                       9798                 9799                 9800   \n",
       "type                  service              message              service   \n",
       "date      2020-06-10T22:58:18  2020-06-10T22:58:32  2020-06-10T23:01:02   \n",
       "actor            Mohit Jindal                  NaN              Pradeep   \n",
       "actor_id            611389237                  NaN            973393289   \n",
       "\n",
       "                        3                    4                    5      \\\n",
       "id                       9801                 9802                 9803   \n",
       "type                  service              service              service   \n",
       "date      2020-06-10T23:01:24  2020-06-10T23:03:25  2020-06-10T23:05:18   \n",
       "actor                 Lijitha           Rohit Jain               S Raut   \n",
       "actor_id           1299771418           1250027868            595207405   \n",
       "\n",
       "                        6                    7                    8      \\\n",
       "id                       9804                 9805                 9806   \n",
       "type                  message              message              service   \n",
       "date      2020-06-10T23:05:42  2020-06-10T23:07:36  2020-06-10T23:08:46   \n",
       "actor                     NaN                  NaN        Soumya Ranjan   \n",
       "actor_id                  NaN                  NaN            924389871   \n",
       "\n",
       "                        9      ...                13111                13112  \\\n",
       "id                       9807  ...                24028                24029   \n",
       "type                  service  ...              message              service   \n",
       "date      2020-06-10T23:09:22  ...  2020-07-14T12:28:08  2020-07-14T12:28:23   \n",
       "actor                     C B  ...                  NaN       Nandha kishore   \n",
       "actor_id            359369119  ...                  NaN           1255111776   \n",
       "\n",
       "                        13113                13114                13115  \\\n",
       "id                      24030                24031                24032   \n",
       "type                  message              message              message   \n",
       "date      2020-07-14T12:29:12  2020-07-14T12:31:55  2020-07-14T12:33:09   \n",
       "actor                     NaN                  NaN                  NaN   \n",
       "actor_id                  NaN                  NaN                  NaN   \n",
       "\n",
       "                        13116                13117                13118  \\\n",
       "id                      24033                24034                24035   \n",
       "type                  message              service              message   \n",
       "date      2020-07-14T12:43:55  2020-07-14T12:52:15  2020-07-14T12:54:27   \n",
       "actor                     NaN                Anand                  NaN   \n",
       "actor_id                  NaN           1068394140                  NaN   \n",
       "\n",
       "                        13119                13120  \n",
       "id                      24036                24037  \n",
       "type                  service              message  \n",
       "date      2020-07-14T12:56:31  2020-07-14T12:57:00  \n",
       "actor                  Sj Bby                  NaN  \n",
       "actor_id            921502515                  NaN  \n",
       "\n",
       "[5 rows x 13121 columns]"
      ]
     },
     "execution_count": 9,
     "metadata": {},
     "output_type": "execute_result"
    }
   ],
   "source": [
    "df2.head()"
   ]
  },
  {
   "cell_type": "code",
   "execution_count": 10,
   "metadata": {},
   "outputs": [],
   "source": [
    "df3 = df2.T"
   ]
  },
  {
   "cell_type": "code",
   "execution_count": 11,
   "metadata": {},
   "outputs": [
    {
     "data": {
      "text/plain": [
       "(13121, 23)"
      ]
     },
     "execution_count": 11,
     "metadata": {},
     "output_type": "execute_result"
    }
   ],
   "source": [
    "df3.shape"
   ]
  },
  {
   "cell_type": "code",
   "execution_count": 12,
   "metadata": {},
   "outputs": [
    {
     "data": {
      "text/html": [
       "<div>\n",
       "<style scoped>\n",
       "    .dataframe tbody tr th:only-of-type {\n",
       "        vertical-align: middle;\n",
       "    }\n",
       "\n",
       "    .dataframe tbody tr th {\n",
       "        vertical-align: top;\n",
       "    }\n",
       "\n",
       "    .dataframe thead th {\n",
       "        text-align: right;\n",
       "    }\n",
       "</style>\n",
       "<table border=\"1\" class=\"dataframe\">\n",
       "  <thead>\n",
       "    <tr style=\"text-align: right;\">\n",
       "      <th></th>\n",
       "      <th>id</th>\n",
       "      <th>type</th>\n",
       "      <th>date</th>\n",
       "      <th>actor</th>\n",
       "      <th>actor_id</th>\n",
       "      <th>action</th>\n",
       "      <th>inviter</th>\n",
       "      <th>text</th>\n",
       "      <th>from</th>\n",
       "      <th>from_id</th>\n",
       "      <th>...</th>\n",
       "      <th>height</th>\n",
       "      <th>members</th>\n",
       "      <th>message_id</th>\n",
       "      <th>edited</th>\n",
       "      <th>forwarded_from</th>\n",
       "      <th>file</th>\n",
       "      <th>thumbnail</th>\n",
       "      <th>mime_type</th>\n",
       "      <th>media_type</th>\n",
       "      <th>duration_seconds</th>\n",
       "    </tr>\n",
       "  </thead>\n",
       "  <tbody>\n",
       "    <tr>\n",
       "      <th>0</th>\n",
       "      <td>9798</td>\n",
       "      <td>service</td>\n",
       "      <td>2020-06-10T22:58:18</td>\n",
       "      <td>Mohit Jindal</td>\n",
       "      <td>611389237</td>\n",
       "      <td>join_group_by_link</td>\n",
       "      <td>Krish Naik</td>\n",
       "      <td></td>\n",
       "      <td>NaN</td>\n",
       "      <td>NaN</td>\n",
       "      <td>...</td>\n",
       "      <td>NaN</td>\n",
       "      <td>NaN</td>\n",
       "      <td>NaN</td>\n",
       "      <td>NaN</td>\n",
       "      <td>NaN</td>\n",
       "      <td>NaN</td>\n",
       "      <td>NaN</td>\n",
       "      <td>NaN</td>\n",
       "      <td>NaN</td>\n",
       "      <td>NaN</td>\n",
       "    </tr>\n",
       "    <tr>\n",
       "      <th>1</th>\n",
       "      <td>9799</td>\n",
       "      <td>message</td>\n",
       "      <td>2020-06-10T22:58:32</td>\n",
       "      <td>NaN</td>\n",
       "      <td>NaN</td>\n",
       "      <td>NaN</td>\n",
       "      <td>NaN</td>\n",
       "      <td>Make a random model and calc the rmse score th...</td>\n",
       "      <td>Piyush Kumar</td>\n",
       "      <td>1217107241</td>\n",
       "      <td>...</td>\n",
       "      <td>NaN</td>\n",
       "      <td>NaN</td>\n",
       "      <td>NaN</td>\n",
       "      <td>NaN</td>\n",
       "      <td>NaN</td>\n",
       "      <td>NaN</td>\n",
       "      <td>NaN</td>\n",
       "      <td>NaN</td>\n",
       "      <td>NaN</td>\n",
       "      <td>NaN</td>\n",
       "    </tr>\n",
       "    <tr>\n",
       "      <th>2</th>\n",
       "      <td>9800</td>\n",
       "      <td>service</td>\n",
       "      <td>2020-06-10T23:01:02</td>\n",
       "      <td>Pradeep</td>\n",
       "      <td>973393289</td>\n",
       "      <td>join_group_by_link</td>\n",
       "      <td>Krish Naik</td>\n",
       "      <td></td>\n",
       "      <td>NaN</td>\n",
       "      <td>NaN</td>\n",
       "      <td>...</td>\n",
       "      <td>NaN</td>\n",
       "      <td>NaN</td>\n",
       "      <td>NaN</td>\n",
       "      <td>NaN</td>\n",
       "      <td>NaN</td>\n",
       "      <td>NaN</td>\n",
       "      <td>NaN</td>\n",
       "      <td>NaN</td>\n",
       "      <td>NaN</td>\n",
       "      <td>NaN</td>\n",
       "    </tr>\n",
       "    <tr>\n",
       "      <th>3</th>\n",
       "      <td>9801</td>\n",
       "      <td>service</td>\n",
       "      <td>2020-06-10T23:01:24</td>\n",
       "      <td>Lijitha</td>\n",
       "      <td>1299771418</td>\n",
       "      <td>join_group_by_link</td>\n",
       "      <td>Krish Naik</td>\n",
       "      <td></td>\n",
       "      <td>NaN</td>\n",
       "      <td>NaN</td>\n",
       "      <td>...</td>\n",
       "      <td>NaN</td>\n",
       "      <td>NaN</td>\n",
       "      <td>NaN</td>\n",
       "      <td>NaN</td>\n",
       "      <td>NaN</td>\n",
       "      <td>NaN</td>\n",
       "      <td>NaN</td>\n",
       "      <td>NaN</td>\n",
       "      <td>NaN</td>\n",
       "      <td>NaN</td>\n",
       "    </tr>\n",
       "    <tr>\n",
       "      <th>4</th>\n",
       "      <td>9802</td>\n",
       "      <td>service</td>\n",
       "      <td>2020-06-10T23:03:25</td>\n",
       "      <td>Rohit Jain</td>\n",
       "      <td>1250027868</td>\n",
       "      <td>join_group_by_link</td>\n",
       "      <td>Krish Naik</td>\n",
       "      <td></td>\n",
       "      <td>NaN</td>\n",
       "      <td>NaN</td>\n",
       "      <td>...</td>\n",
       "      <td>NaN</td>\n",
       "      <td>NaN</td>\n",
       "      <td>NaN</td>\n",
       "      <td>NaN</td>\n",
       "      <td>NaN</td>\n",
       "      <td>NaN</td>\n",
       "      <td>NaN</td>\n",
       "      <td>NaN</td>\n",
       "      <td>NaN</td>\n",
       "      <td>NaN</td>\n",
       "    </tr>\n",
       "  </tbody>\n",
       "</table>\n",
       "<p>5 rows × 23 columns</p>\n",
       "</div>"
      ],
      "text/plain": [
       "     id     type                 date         actor    actor_id  \\\n",
       "0  9798  service  2020-06-10T22:58:18  Mohit Jindal   611389237   \n",
       "1  9799  message  2020-06-10T22:58:32           NaN         NaN   \n",
       "2  9800  service  2020-06-10T23:01:02       Pradeep   973393289   \n",
       "3  9801  service  2020-06-10T23:01:24       Lijitha  1299771418   \n",
       "4  9802  service  2020-06-10T23:03:25    Rohit Jain  1250027868   \n",
       "\n",
       "               action     inviter  \\\n",
       "0  join_group_by_link  Krish Naik   \n",
       "1                 NaN         NaN   \n",
       "2  join_group_by_link  Krish Naik   \n",
       "3  join_group_by_link  Krish Naik   \n",
       "4  join_group_by_link  Krish Naik   \n",
       "\n",
       "                                                text          from  \\\n",
       "0                                                              NaN   \n",
       "1  Make a random model and calc the rmse score th...  Piyush Kumar   \n",
       "2                                                              NaN   \n",
       "3                                                              NaN   \n",
       "4                                                              NaN   \n",
       "\n",
       "      from_id  ... height members message_id edited forwarded_from file  \\\n",
       "0         NaN  ...    NaN     NaN        NaN    NaN            NaN  NaN   \n",
       "1  1217107241  ...    NaN     NaN        NaN    NaN            NaN  NaN   \n",
       "2         NaN  ...    NaN     NaN        NaN    NaN            NaN  NaN   \n",
       "3         NaN  ...    NaN     NaN        NaN    NaN            NaN  NaN   \n",
       "4         NaN  ...    NaN     NaN        NaN    NaN            NaN  NaN   \n",
       "\n",
       "  thumbnail mime_type media_type duration_seconds  \n",
       "0       NaN       NaN        NaN              NaN  \n",
       "1       NaN       NaN        NaN              NaN  \n",
       "2       NaN       NaN        NaN              NaN  \n",
       "3       NaN       NaN        NaN              NaN  \n",
       "4       NaN       NaN        NaN              NaN  \n",
       "\n",
       "[5 rows x 23 columns]"
      ]
     },
     "execution_count": 12,
     "metadata": {},
     "output_type": "execute_result"
    }
   ],
   "source": [
    "df3.head()"
   ]
  },
  {
   "cell_type": "code",
   "execution_count": 13,
   "metadata": {},
   "outputs": [
    {
     "data": {
      "text/plain": [
       "Index(['id', 'type', 'date', 'actor', 'actor_id', 'action', 'inviter', 'text',\n",
       "       'from', 'from_id', 'reply_to_message_id', 'photo', 'width', 'height',\n",
       "       'members', 'message_id', 'edited', 'forwarded_from', 'file',\n",
       "       'thumbnail', 'mime_type', 'media_type', 'duration_seconds'],\n",
       "      dtype='object')"
      ]
     },
     "execution_count": 13,
     "metadata": {},
     "output_type": "execute_result"
    }
   ],
   "source": [
    "df3.columns"
   ]
  },
  {
   "cell_type": "code",
   "execution_count": 14,
   "metadata": {},
   "outputs": [
    {
     "data": {
      "text/plain": [
       "3088"
      ]
     },
     "execution_count": 14,
     "metadata": {},
     "output_type": "execute_result"
    }
   ],
   "source": [
    "len(df3['actor_id'].unique())"
   ]
  },
  {
   "cell_type": "code",
   "execution_count": 15,
   "metadata": {},
   "outputs": [
    {
     "data": {
      "text/plain": [
       "3152"
      ]
     },
     "execution_count": 15,
     "metadata": {},
     "output_type": "execute_result"
    }
   ],
   "source": [
    "len(df3[df3['type'] == 'service'])"
   ]
  },
  {
   "cell_type": "code",
   "execution_count": 16,
   "metadata": {},
   "outputs": [],
   "source": [
    "df3 = df3[df3['type'] != 'service']"
   ]
  },
  {
   "cell_type": "code",
   "execution_count": 17,
   "metadata": {},
   "outputs": [
    {
     "data": {
      "text/plain": [
       "(9969, 23)"
      ]
     },
     "execution_count": 17,
     "metadata": {},
     "output_type": "execute_result"
    }
   ],
   "source": [
    "df3.shape"
   ]
  },
  {
   "cell_type": "code",
   "execution_count": 18,
   "metadata": {},
   "outputs": [
    {
     "data": {
      "text/html": [
       "<div>\n",
       "<style scoped>\n",
       "    .dataframe tbody tr th:only-of-type {\n",
       "        vertical-align: middle;\n",
       "    }\n",
       "\n",
       "    .dataframe tbody tr th {\n",
       "        vertical-align: top;\n",
       "    }\n",
       "\n",
       "    .dataframe thead th {\n",
       "        text-align: right;\n",
       "    }\n",
       "</style>\n",
       "<table border=\"1\" class=\"dataframe\">\n",
       "  <thead>\n",
       "    <tr style=\"text-align: right;\">\n",
       "      <th></th>\n",
       "      <th>id</th>\n",
       "      <th>type</th>\n",
       "      <th>date</th>\n",
       "      <th>actor</th>\n",
       "      <th>actor_id</th>\n",
       "      <th>action</th>\n",
       "      <th>inviter</th>\n",
       "      <th>text</th>\n",
       "      <th>from</th>\n",
       "      <th>from_id</th>\n",
       "      <th>...</th>\n",
       "      <th>height</th>\n",
       "      <th>members</th>\n",
       "      <th>message_id</th>\n",
       "      <th>edited</th>\n",
       "      <th>forwarded_from</th>\n",
       "      <th>file</th>\n",
       "      <th>thumbnail</th>\n",
       "      <th>mime_type</th>\n",
       "      <th>media_type</th>\n",
       "      <th>duration_seconds</th>\n",
       "    </tr>\n",
       "  </thead>\n",
       "  <tbody>\n",
       "    <tr>\n",
       "      <th>1</th>\n",
       "      <td>9799</td>\n",
       "      <td>message</td>\n",
       "      <td>2020-06-10T22:58:32</td>\n",
       "      <td>NaN</td>\n",
       "      <td>NaN</td>\n",
       "      <td>NaN</td>\n",
       "      <td>NaN</td>\n",
       "      <td>Make a random model and calc the rmse score th...</td>\n",
       "      <td>Piyush Kumar</td>\n",
       "      <td>1217107241</td>\n",
       "      <td>...</td>\n",
       "      <td>NaN</td>\n",
       "      <td>NaN</td>\n",
       "      <td>NaN</td>\n",
       "      <td>NaN</td>\n",
       "      <td>NaN</td>\n",
       "      <td>NaN</td>\n",
       "      <td>NaN</td>\n",
       "      <td>NaN</td>\n",
       "      <td>NaN</td>\n",
       "      <td>NaN</td>\n",
       "    </tr>\n",
       "    <tr>\n",
       "      <th>6</th>\n",
       "      <td>9804</td>\n",
       "      <td>message</td>\n",
       "      <td>2020-06-10T23:05:42</td>\n",
       "      <td>NaN</td>\n",
       "      <td>NaN</td>\n",
       "      <td>NaN</td>\n",
       "      <td>NaN</td>\n",
       "      <td>Hi all</td>\n",
       "      <td>Rohit Jain</td>\n",
       "      <td>1250027868</td>\n",
       "      <td>...</td>\n",
       "      <td>NaN</td>\n",
       "      <td>NaN</td>\n",
       "      <td>NaN</td>\n",
       "      <td>NaN</td>\n",
       "      <td>NaN</td>\n",
       "      <td>NaN</td>\n",
       "      <td>NaN</td>\n",
       "      <td>NaN</td>\n",
       "      <td>NaN</td>\n",
       "      <td>NaN</td>\n",
       "    </tr>\n",
       "  </tbody>\n",
       "</table>\n",
       "<p>2 rows × 23 columns</p>\n",
       "</div>"
      ],
      "text/plain": [
       "     id     type                 date actor actor_id action inviter  \\\n",
       "1  9799  message  2020-06-10T22:58:32   NaN      NaN    NaN     NaN   \n",
       "6  9804  message  2020-06-10T23:05:42   NaN      NaN    NaN     NaN   \n",
       "\n",
       "                                                text          from  \\\n",
       "1  Make a random model and calc the rmse score th...  Piyush Kumar   \n",
       "6                                             Hi all    Rohit Jain   \n",
       "\n",
       "      from_id  ... height members message_id edited forwarded_from file  \\\n",
       "1  1217107241  ...    NaN     NaN        NaN    NaN            NaN  NaN   \n",
       "6  1250027868  ...    NaN     NaN        NaN    NaN            NaN  NaN   \n",
       "\n",
       "  thumbnail mime_type media_type duration_seconds  \n",
       "1       NaN       NaN        NaN              NaN  \n",
       "6       NaN       NaN        NaN              NaN  \n",
       "\n",
       "[2 rows x 23 columns]"
      ]
     },
     "execution_count": 18,
     "metadata": {},
     "output_type": "execute_result"
    }
   ],
   "source": [
    "df3.head(2)"
   ]
  },
  {
   "cell_type": "code",
   "execution_count": 19,
   "metadata": {},
   "outputs": [
    {
     "data": {
      "text/plain": [
       "array([nan], dtype=object)"
      ]
     },
     "execution_count": 19,
     "metadata": {},
     "output_type": "execute_result"
    }
   ],
   "source": [
    "df3['actor'].unique()"
   ]
  },
  {
   "cell_type": "code",
   "execution_count": 20,
   "metadata": {},
   "outputs": [
    {
     "data": {
      "text/plain": [
       "array([nan], dtype=object)"
      ]
     },
     "execution_count": 20,
     "metadata": {},
     "output_type": "execute_result"
    }
   ],
   "source": [
    "df3['action'].unique()"
   ]
  },
  {
   "cell_type": "code",
   "execution_count": 21,
   "metadata": {},
   "outputs": [
    {
     "data": {
      "text/plain": [
       "array([nan], dtype=object)"
      ]
     },
     "execution_count": 21,
     "metadata": {},
     "output_type": "execute_result"
    }
   ],
   "source": [
    "df3['inviter'].unique()"
   ]
  },
  {
   "cell_type": "code",
   "execution_count": 22,
   "metadata": {},
   "outputs": [
    {
     "data": {
      "text/plain": [
       "array([nan], dtype=object)"
      ]
     },
     "execution_count": 22,
     "metadata": {},
     "output_type": "execute_result"
    }
   ],
   "source": [
    "df3['actor_id'].unique()"
   ]
  },
  {
   "cell_type": "code",
   "execution_count": 23,
   "metadata": {},
   "outputs": [],
   "source": [
    "df3 = df3.drop(['type','actor','action','inviter','actor_id','members','message_id'],axis=1)"
   ]
  },
  {
   "cell_type": "code",
   "execution_count": 24,
   "metadata": {},
   "outputs": [
    {
     "data": {
      "text/plain": [
       "(9969, 16)"
      ]
     },
     "execution_count": 24,
     "metadata": {},
     "output_type": "execute_result"
    }
   ],
   "source": [
    "df3.shape"
   ]
  },
  {
   "cell_type": "code",
   "execution_count": 25,
   "metadata": {},
   "outputs": [
    {
     "data": {
      "text/html": [
       "<div>\n",
       "<style scoped>\n",
       "    .dataframe tbody tr th:only-of-type {\n",
       "        vertical-align: middle;\n",
       "    }\n",
       "\n",
       "    .dataframe tbody tr th {\n",
       "        vertical-align: top;\n",
       "    }\n",
       "\n",
       "    .dataframe thead th {\n",
       "        text-align: right;\n",
       "    }\n",
       "</style>\n",
       "<table border=\"1\" class=\"dataframe\">\n",
       "  <thead>\n",
       "    <tr style=\"text-align: right;\">\n",
       "      <th></th>\n",
       "      <th>id</th>\n",
       "      <th>date</th>\n",
       "      <th>text</th>\n",
       "      <th>from</th>\n",
       "      <th>from_id</th>\n",
       "      <th>reply_to_message_id</th>\n",
       "      <th>photo</th>\n",
       "      <th>width</th>\n",
       "      <th>height</th>\n",
       "      <th>edited</th>\n",
       "      <th>forwarded_from</th>\n",
       "      <th>file</th>\n",
       "      <th>thumbnail</th>\n",
       "      <th>mime_type</th>\n",
       "      <th>media_type</th>\n",
       "      <th>duration_seconds</th>\n",
       "    </tr>\n",
       "  </thead>\n",
       "  <tbody>\n",
       "    <tr>\n",
       "      <th>1</th>\n",
       "      <td>9799</td>\n",
       "      <td>2020-06-10T22:58:32</td>\n",
       "      <td>Make a random model and calc the rmse score th...</td>\n",
       "      <td>Piyush Kumar</td>\n",
       "      <td>1217107241</td>\n",
       "      <td>9796</td>\n",
       "      <td>NaN</td>\n",
       "      <td>NaN</td>\n",
       "      <td>NaN</td>\n",
       "      <td>NaN</td>\n",
       "      <td>NaN</td>\n",
       "      <td>NaN</td>\n",
       "      <td>NaN</td>\n",
       "      <td>NaN</td>\n",
       "      <td>NaN</td>\n",
       "      <td>NaN</td>\n",
       "    </tr>\n",
       "    <tr>\n",
       "      <th>6</th>\n",
       "      <td>9804</td>\n",
       "      <td>2020-06-10T23:05:42</td>\n",
       "      <td>Hi all</td>\n",
       "      <td>Rohit Jain</td>\n",
       "      <td>1250027868</td>\n",
       "      <td>NaN</td>\n",
       "      <td>NaN</td>\n",
       "      <td>NaN</td>\n",
       "      <td>NaN</td>\n",
       "      <td>NaN</td>\n",
       "      <td>NaN</td>\n",
       "      <td>NaN</td>\n",
       "      <td>NaN</td>\n",
       "      <td>NaN</td>\n",
       "      <td>NaN</td>\n",
       "      <td>NaN</td>\n",
       "    </tr>\n",
       "  </tbody>\n",
       "</table>\n",
       "</div>"
      ],
      "text/plain": [
       "     id                 date  \\\n",
       "1  9799  2020-06-10T22:58:32   \n",
       "6  9804  2020-06-10T23:05:42   \n",
       "\n",
       "                                                text          from  \\\n",
       "1  Make a random model and calc the rmse score th...  Piyush Kumar   \n",
       "6                                             Hi all    Rohit Jain   \n",
       "\n",
       "      from_id reply_to_message_id photo width height edited forwarded_from  \\\n",
       "1  1217107241                9796   NaN   NaN    NaN    NaN            NaN   \n",
       "6  1250027868                 NaN   NaN   NaN    NaN    NaN            NaN   \n",
       "\n",
       "  file thumbnail mime_type media_type duration_seconds  \n",
       "1  NaN       NaN       NaN        NaN              NaN  \n",
       "6  NaN       NaN       NaN        NaN              NaN  "
      ]
     },
     "execution_count": 25,
     "metadata": {},
     "output_type": "execute_result"
    }
   ],
   "source": [
    "df3.head(2)"
   ]
  },
  {
   "cell_type": "code",
   "execution_count": 32,
   "metadata": {},
   "outputs": [
    {
     "data": {
      "text/plain": [
       "array([nan], dtype=object)"
      ]
     },
     "execution_count": 32,
     "metadata": {},
     "output_type": "execute_result"
    }
   ],
   "source": [
    "df3['file'].unique()"
   ]
  },
  {
   "cell_type": "code",
   "execution_count": 36,
   "metadata": {},
   "outputs": [
    {
     "data": {
      "text/plain": [
       "array([nan], dtype=object)"
      ]
     },
     "execution_count": 36,
     "metadata": {},
     "output_type": "execute_result"
    }
   ],
   "source": [
    "df3['thumbnail'].unique()"
   ]
  },
  {
   "cell_type": "code",
   "execution_count": null,
   "metadata": {},
   "outputs": [],
   "source": [
    "df3[''].unique()"
   ]
  },
  {
   "cell_type": "code",
   "execution_count": 33,
   "metadata": {},
   "outputs": [
    {
     "data": {
      "text/plain": [
       "array([nan,\n",
       "       '(File not included. Change data exporting settings to download.)'],\n",
       "      dtype=object)"
      ]
     },
     "execution_count": 33,
     "metadata": {},
     "output_type": "execute_result"
    }
   ],
   "source": [
    "df3['photo'].unique()"
   ]
  },
  {
   "cell_type": "code",
   "execution_count": 28,
   "metadata": {},
   "outputs": [],
   "source": [
    "df3 = df3[df3['file'] != '(File not included. Change data exporting settings to download.)' or df3['photo'] != 'df3['file'].unique()']"
   ]
  },
  {
   "cell_type": "code",
   "execution_count": 29,
   "metadata": {},
   "outputs": [
    {
     "data": {
      "text/html": [
       "<div>\n",
       "<style scoped>\n",
       "    .dataframe tbody tr th:only-of-type {\n",
       "        vertical-align: middle;\n",
       "    }\n",
       "\n",
       "    .dataframe tbody tr th {\n",
       "        vertical-align: top;\n",
       "    }\n",
       "\n",
       "    .dataframe thead th {\n",
       "        text-align: right;\n",
       "    }\n",
       "</style>\n",
       "<table border=\"1\" class=\"dataframe\">\n",
       "  <thead>\n",
       "    <tr style=\"text-align: right;\">\n",
       "      <th></th>\n",
       "      <th>id</th>\n",
       "      <th>date</th>\n",
       "      <th>text</th>\n",
       "      <th>from</th>\n",
       "      <th>from_id</th>\n",
       "      <th>reply_to_message_id</th>\n",
       "      <th>photo</th>\n",
       "      <th>width</th>\n",
       "      <th>height</th>\n",
       "      <th>edited</th>\n",
       "      <th>forwarded_from</th>\n",
       "      <th>file</th>\n",
       "      <th>thumbnail</th>\n",
       "      <th>mime_type</th>\n",
       "      <th>media_type</th>\n",
       "      <th>duration_seconds</th>\n",
       "    </tr>\n",
       "  </thead>\n",
       "  <tbody>\n",
       "    <tr>\n",
       "      <th>1</th>\n",
       "      <td>9799</td>\n",
       "      <td>2020-06-10T22:58:32</td>\n",
       "      <td>Make a random model and calc the rmse score th...</td>\n",
       "      <td>Piyush Kumar</td>\n",
       "      <td>1217107241</td>\n",
       "      <td>9796</td>\n",
       "      <td>NaN</td>\n",
       "      <td>NaN</td>\n",
       "      <td>NaN</td>\n",
       "      <td>NaN</td>\n",
       "      <td>NaN</td>\n",
       "      <td>NaN</td>\n",
       "      <td>NaN</td>\n",
       "      <td>NaN</td>\n",
       "      <td>NaN</td>\n",
       "      <td>NaN</td>\n",
       "    </tr>\n",
       "    <tr>\n",
       "      <th>6</th>\n",
       "      <td>9804</td>\n",
       "      <td>2020-06-10T23:05:42</td>\n",
       "      <td>Hi all</td>\n",
       "      <td>Rohit Jain</td>\n",
       "      <td>1250027868</td>\n",
       "      <td>NaN</td>\n",
       "      <td>NaN</td>\n",
       "      <td>NaN</td>\n",
       "      <td>NaN</td>\n",
       "      <td>NaN</td>\n",
       "      <td>NaN</td>\n",
       "      <td>NaN</td>\n",
       "      <td>NaN</td>\n",
       "      <td>NaN</td>\n",
       "      <td>NaN</td>\n",
       "      <td>NaN</td>\n",
       "    </tr>\n",
       "  </tbody>\n",
       "</table>\n",
       "</div>"
      ],
      "text/plain": [
       "     id                 date  \\\n",
       "1  9799  2020-06-10T22:58:32   \n",
       "6  9804  2020-06-10T23:05:42   \n",
       "\n",
       "                                                text          from  \\\n",
       "1  Make a random model and calc the rmse score th...  Piyush Kumar   \n",
       "6                                             Hi all    Rohit Jain   \n",
       "\n",
       "      from_id reply_to_message_id photo width height edited forwarded_from  \\\n",
       "1  1217107241                9796   NaN   NaN    NaN    NaN            NaN   \n",
       "6  1250027868                 NaN   NaN   NaN    NaN    NaN            NaN   \n",
       "\n",
       "  file thumbnail mime_type media_type duration_seconds  \n",
       "1  NaN       NaN       NaN        NaN              NaN  \n",
       "6  NaN       NaN       NaN        NaN              NaN  "
      ]
     },
     "execution_count": 29,
     "metadata": {},
     "output_type": "execute_result"
    }
   ],
   "source": [
    "df3.head(2)"
   ]
  },
  {
   "cell_type": "code",
   "execution_count": 30,
   "metadata": {},
   "outputs": [
    {
     "data": {
      "text/plain": [
       "(9890, 16)"
      ]
     },
     "execution_count": 30,
     "metadata": {},
     "output_type": "execute_result"
    }
   ],
   "source": [
    "df3.shape"
   ]
  },
  {
   "cell_type": "code",
   "execution_count": null,
   "metadata": {},
   "outputs": [],
   "source": []
  }
 ],
 "metadata": {
  "kernelspec": {
   "display_name": "Python 3",
   "language": "python",
   "name": "python3"
  },
  "language_info": {
   "codemirror_mode": {
    "name": "ipython",
    "version": 3
   },
   "file_extension": ".py",
   "mimetype": "text/x-python",
   "name": "python",
   "nbconvert_exporter": "python",
   "pygments_lexer": "ipython3",
   "version": "3.6.9"
  }
 },
 "nbformat": 4,
 "nbformat_minor": 2
}
